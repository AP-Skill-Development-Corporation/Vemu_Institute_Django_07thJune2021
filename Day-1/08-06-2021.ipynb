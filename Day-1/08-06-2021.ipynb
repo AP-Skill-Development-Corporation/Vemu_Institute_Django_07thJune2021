{
 "cells": [
  {
   "cell_type": "markdown",
   "metadata": {},
   "source": [
    "### python oops:\n",
    "\n",
    "- class\n",
    "- object\n",
    "- constructor\n",
    "- inheritance\n",
    "- packages and modules\n",
    "\n",
    "#### function:\n",
    "- it contains collection of statements\n",
    "\n",
    "### method:\n",
    "- if you mention function inside the class  \n",
    "\n",
    "    syntax:\n",
    "     class classnamr:\n",
    "         variables\n",
    "         methods\n",
    "         \n",
    "### object():\n",
    "    - realtime entity\n",
    "    - instance of class\n",
    "   \n",
    "   - syntax:\n",
    "   \n",
    "       objectname=classname\n",
    "       \n",
    "#### inheritance:\n",
    "- aquiring properties from parent to child\n",
    "\n",
    "        - syntax:\n",
    "        \n",
    "               class child class (parent class):\n",
    "               class classb(class a):\n",
    "               \n",
    " ##### types:\n",
    " \n",
    " - single   - it contain one parent class and one child class\n",
    " - multilevel - one or more parent classes or one or more child classes\n",
    " - multiple - more than one parent classes and only one child class\n",
    " - hybrid  - combination of all inheritances\n",
    " - heirarchical- tree structure\n",
    " \n",
    "##### packages and modules:\n",
    "\n",
    "##### package:\n",
    "- it is a cillection of modules\n",
    "#### module\n",
    "- it it a .py file\n",
    "- it contains no of classes and no of functions\n",
    "- for acessing module we are using one keyword \"import\"\n",
    "    - import modulename\n",
    "    - from modulename import classname\n",
    "    - from modulename import *"
   ]
  },
  {
   "cell_type": "code",
   "execution_count": 4,
   "metadata": {},
   "outputs": [
    {
     "name": "stdout",
     "output_type": "stream",
     "text": [
      "hello guys welcome to python oops\n",
      "None\n",
      "30\n"
     ]
    }
   ],
   "source": [
    "#### dot.method\n",
    "### classname.variable name\n",
    "class Hi:\n",
    "    a=20\n",
    "    b=30\n",
    "    def display():\n",
    "        print(\"hello guys welcome to python oops\")\n",
    "print(Hi.display()) \n",
    "print(Hi.b)\n"
   ]
  },
  {
   "cell_type": "code",
   "execution_count": 6,
   "metadata": {},
   "outputs": [
    {
     "name": "stdout",
     "output_type": "stream",
     "text": [
      "72\n",
      "17\n"
     ]
    }
   ],
   "source": [
    "#### object()\n",
    "\n",
    "class Math:\n",
    "    def add(n1,n2):\n",
    "        return n1+n2\n",
    "    def mul(n1,n2):\n",
    "        return n1*n2\n",
    "    \n",
    "obj=Math\n",
    "print(obj.mul(8,9))\n",
    "print(obj.add(8,9))"
   ]
  },
  {
   "cell_type": "code",
   "execution_count": 7,
   "metadata": {},
   "outputs": [
    {
     "ename": "TypeError",
     "evalue": "mul() takes 2 positional arguments but 3 were given",
     "output_type": "error",
     "traceback": [
      "\u001b[1;31m---------------------------------------------------------------------------\u001b[0m",
      "\u001b[1;31mTypeError\u001b[0m                                 Traceback (most recent call last)",
      "\u001b[1;32m<ipython-input-7-5d0f17ee95f1>\u001b[0m in \u001b[0;36m<module>\u001b[1;34m\u001b[0m\n\u001b[0;32m      8\u001b[0m \u001b[1;33m\u001b[0m\u001b[0m\n\u001b[0;32m      9\u001b[0m \u001b[0mobj\u001b[0m\u001b[1;33m=\u001b[0m\u001b[0mMath\u001b[0m\u001b[1;33m(\u001b[0m\u001b[1;33m)\u001b[0m\u001b[1;33m\u001b[0m\u001b[1;33m\u001b[0m\u001b[0m\n\u001b[1;32m---> 10\u001b[1;33m \u001b[0mprint\u001b[0m\u001b[1;33m(\u001b[0m\u001b[0mobj\u001b[0m\u001b[1;33m.\u001b[0m\u001b[0mmul\u001b[0m\u001b[1;33m(\u001b[0m\u001b[1;36m8\u001b[0m\u001b[1;33m,\u001b[0m\u001b[1;36m9\u001b[0m\u001b[1;33m)\u001b[0m\u001b[1;33m)\u001b[0m\u001b[1;33m\u001b[0m\u001b[1;33m\u001b[0m\u001b[0m\n\u001b[0m\u001b[0;32m     11\u001b[0m \u001b[0mprint\u001b[0m\u001b[1;33m(\u001b[0m\u001b[0mobj\u001b[0m\u001b[1;33m.\u001b[0m\u001b[0madd\u001b[0m\u001b[1;33m(\u001b[0m\u001b[1;36m8\u001b[0m\u001b[1;33m,\u001b[0m\u001b[1;36m9\u001b[0m\u001b[1;33m)\u001b[0m\u001b[1;33m)\u001b[0m\u001b[1;33m\u001b[0m\u001b[1;33m\u001b[0m\u001b[0m\n",
      "\u001b[1;31mTypeError\u001b[0m: mul() takes 2 positional arguments but 3 were given"
     ]
    }
   ],
   "source": [
    "#### object()\n",
    "\n",
    "class Math:\n",
    "    def add(n1,n2):\n",
    "        return n1+n2\n",
    "    def mul(n1,n2):\n",
    "        return n1*n2\n",
    "    \n",
    "obj=Math()\n",
    "print(obj.mul(8,9))\n",
    "print(obj.add(8,9))"
   ]
  },
  {
   "cell_type": "markdown",
   "metadata": {},
   "source": [
    "### constructor\n",
    "- here without using object we will call function\n",
    "- class classname:\n",
    "    def __init__(self):\n",
    "        ### init- constructor\n",
    "        ### self- default parameter\n",
    "- types:\n",
    "    - default cons\n",
    "    - parameterized cons:"
   ]
  },
  {
   "cell_type": "code",
   "execution_count": 8,
   "metadata": {},
   "outputs": [
    {
     "name": "stdout",
     "output_type": "stream",
     "text": [
      "hi guys welcome to constructors\n"
     ]
    }
   ],
   "source": [
    "### default:\n",
    "\n",
    "class Basic:\n",
    "    def __init__(self):\n",
    "        print(\"hi guys welcome to constructors\")\n",
    "obj=Basic()"
   ]
  },
  {
   "cell_type": "code",
   "execution_count": 9,
   "metadata": {},
   "outputs": [
    {
     "name": "stdout",
     "output_type": "stream",
     "text": [
      "hi guys\n"
     ]
    }
   ],
   "source": [
    "### userdefined\n",
    "class Geek:\n",
    "    def __myName__(self):\n",
    "        print(\"hi guys\")\n",
    "        \n",
    "obj=Geek()\n",
    "obj.__myName__()"
   ]
  },
  {
   "cell_type": "code",
   "execution_count": 14,
   "metadata": {},
   "outputs": [
    {
     "name": "stdout",
     "output_type": "stream",
     "text": [
      "4\n",
      "7\n",
      "None\n",
      "11\n"
     ]
    }
   ],
   "source": [
    "### parameterized\n",
    "\n",
    "### def__init__(self,a,b):\n",
    "### def__init__(a,self,b):\n",
    "\n",
    "class Math:\n",
    "    def __init__(self,a,b):\n",
    "        self.v1=a\n",
    "        self.v2=b     ### storage\n",
    "    def show(self):\n",
    "        print(self.v1)  ###display the values\n",
    "        print(self.v2)\n",
    "    def add(self):\n",
    "        return self.v1+self.v2   ### addition\n",
    "    \n",
    "obj=Math(4,7)\n",
    "print(obj.show())\n",
    "print(obj.add())"
   ]
  },
  {
   "cell_type": "code",
   "execution_count": 20,
   "metadata": {
    "collapsed": true
   },
   "outputs": [
    {
     "name": "stdout",
     "output_type": "stream",
     "text": [
      "20\n",
      "30\n",
      "im from class A\n",
      "None\n",
      "50\n",
      "40\n",
      "im from class B\n",
      "None\n"
     ]
    }
   ],
   "source": [
    "#### single inheritance:\n",
    "\n",
    "class ClassA():\n",
    "    a,b=20,30\n",
    "    def sample():\n",
    "        print(\"im from class A\")\n",
    "class ClassB(ClassA):\n",
    "    c,d=40,50\n",
    "    def sample2():\n",
    "        print(\"im from class B\")\n",
    "        \n",
    "obj=ClassB\n",
    "print(obj.a)\n",
    "print(obj.b)\n",
    "print(obj.sample())\n",
    "print(obj.d)\n",
    "print(obj.c)\n",
    "print(obj.sample2())"
   ]
  },
  {
   "cell_type": "code",
   "execution_count": 22,
   "metadata": {},
   "outputs": [
    {
     "name": "stdout",
     "output_type": "stream",
     "text": [
      "im from classA\n",
      "None\n",
      "im from classB\n",
      "None\n",
      " im from class C\n",
      "None\n"
     ]
    }
   ],
   "source": [
    "#### multilevel\n",
    "### class a\n",
    "###   class b\n",
    "###   class c\n",
    "####   class d\n",
    "\n",
    "class A:\n",
    "    def classA():\n",
    "        print(\"im from classA\")\n",
    "class B(A):\n",
    "    def classB():\n",
    "        print(\"im from classB\")\n",
    "class C(B):\n",
    "    def classC():\n",
    "        print(\" im from class C\")\n",
    "obj=C\n",
    "print(obj.classA())\n",
    "print(obj.classB())\n",
    "print(obj.classC())"
   ]
  },
  {
   "cell_type": "code",
   "execution_count": 23,
   "metadata": {},
   "outputs": [
    {
     "name": "stdout",
     "output_type": "stream",
     "text": [
      "im from classA\n",
      "None\n",
      "im from classB\n",
      "None\n",
      " im from class C\n",
      "None\n"
     ]
    }
   ],
   "source": [
    "### multiple\n",
    "class A:\n",
    "    def classA():\n",
    "        print(\"im from classA\")\n",
    "class B:\n",
    "    def classB():\n",
    "        print(\"im from classB\")\n",
    "class C(A,B):\n",
    "    def classC():\n",
    "        print(\" im from class C\")\n",
    "obj=C\n",
    "print(obj.classA())\n",
    "print(obj.classB())\n",
    "print(obj.classC())"
   ]
  },
  {
   "cell_type": "code",
   "execution_count": 25,
   "metadata": {},
   "outputs": [
    {
     "name": "stdout",
     "output_type": "stream",
     "text": [
      "13\n",
      "1\n"
     ]
    }
   ],
   "source": [
    "import sample\n",
    "obj=sample.Calsi\n",
    "print(obj.add(7,6))\n",
    "print(obj.sub(7,6))"
   ]
  },
  {
   "cell_type": "code",
   "execution_count": 27,
   "metadata": {},
   "outputs": [
    {
     "name": "stdout",
     "output_type": "stream",
     "text": [
      "279936\n",
      "False\n"
     ]
    }
   ],
   "source": [
    "ob=sample.Math\n",
    "print(ob.power(6,7))\n",
    "print(ob.isEven(7))"
   ]
  },
  {
   "cell_type": "code",
   "execution_count": 28,
   "metadata": {},
   "outputs": [
    {
     "name": "stdout",
     "output_type": "stream",
     "text": [
      "True\n"
     ]
    }
   ],
   "source": [
    "obj=sample.isOdd(9)\n",
    "print(obj)"
   ]
  },
  {
   "cell_type": "code",
   "execution_count": 32,
   "metadata": {},
   "outputs": [
    {
     "name": "stdout",
     "output_type": "stream",
     "text": [
      "134217728\n",
      "True\n"
     ]
    }
   ],
   "source": [
    "#### 2nd way\n",
    "##### from modulename import classname\n",
    "\n",
    "from sample import Math\n",
    "obj=Math\n",
    "print(obj.power(8,9))\n",
    "print(obj.isEven(8))"
   ]
  },
  {
   "cell_type": "code",
   "execution_count": 35,
   "metadata": {},
   "outputs": [
    {
     "name": "stdout",
     "output_type": "stream",
     "text": [
      "11\n",
      "3\n"
     ]
    }
   ],
   "source": [
    "from sample import Calsi\n",
    "obj=Calsi\n",
    "print(obj.add(5,6))\n",
    "print(obj.sub(6,3))"
   ]
  },
  {
   "cell_type": "code",
   "execution_count": 36,
   "metadata": {},
   "outputs": [
    {
     "name": "stdout",
     "output_type": "stream",
     "text": [
      "True\n"
     ]
    }
   ],
   "source": [
    "from sample import isOdd\n",
    "o=isOdd(7)\n",
    "print(o)"
   ]
  },
  {
   "cell_type": "code",
   "execution_count": 37,
   "metadata": {},
   "outputs": [
    {
     "name": "stdout",
     "output_type": "stream",
     "text": [
      "17\n"
     ]
    }
   ],
   "source": [
    "#### 3rd way\n",
    "### from modulename import *\n",
    "from sample import *\n",
    "obj=Calsi\n",
    "print(obj.add(8,9))"
   ]
  },
  {
   "cell_type": "code",
   "execution_count": 38,
   "metadata": {},
   "outputs": [
    {
     "name": "stdout",
     "output_type": "stream",
     "text": [
      "5764801\n"
     ]
    }
   ],
   "source": [
    "obj=Math\n",
    "print(obj.power(7,8))"
   ]
  },
  {
   "cell_type": "code",
   "execution_count": 39,
   "metadata": {},
   "outputs": [
    {
     "name": "stdout",
     "output_type": "stream",
     "text": [
      "True\n"
     ]
    }
   ],
   "source": [
    "obj=isOdd(7)\n",
    "print(obj)"
   ]
  },
  {
   "cell_type": "code",
   "execution_count": 42,
   "metadata": {
    "collapsed": true
   },
   "outputs": [
    {
     "data": {
      "text/plain": [
       "['ArithmeticError',\n",
       " 'AssertionError',\n",
       " 'AttributeError',\n",
       " 'BaseException',\n",
       " 'BlockingIOError',\n",
       " 'BrokenPipeError',\n",
       " 'BufferError',\n",
       " 'BytesWarning',\n",
       " 'ChildProcessError',\n",
       " 'ConnectionAbortedError',\n",
       " 'ConnectionError',\n",
       " 'ConnectionRefusedError',\n",
       " 'ConnectionResetError',\n",
       " 'DeprecationWarning',\n",
       " 'EOFError',\n",
       " 'Ellipsis',\n",
       " 'EnvironmentError',\n",
       " 'Exception',\n",
       " 'False',\n",
       " 'FileExistsError',\n",
       " 'FileNotFoundError',\n",
       " 'FloatingPointError',\n",
       " 'FutureWarning',\n",
       " 'GeneratorExit',\n",
       " 'IOError',\n",
       " 'ImportError',\n",
       " 'ImportWarning',\n",
       " 'IndentationError',\n",
       " 'IndexError',\n",
       " 'InterruptedError',\n",
       " 'IsADirectoryError',\n",
       " 'KeyError',\n",
       " 'KeyboardInterrupt',\n",
       " 'LookupError',\n",
       " 'MemoryError',\n",
       " 'ModuleNotFoundError',\n",
       " 'NameError',\n",
       " 'None',\n",
       " 'NotADirectoryError',\n",
       " 'NotImplemented',\n",
       " 'NotImplementedError',\n",
       " 'OSError',\n",
       " 'OverflowError',\n",
       " 'PendingDeprecationWarning',\n",
       " 'PermissionError',\n",
       " 'ProcessLookupError',\n",
       " 'RecursionError',\n",
       " 'ReferenceError',\n",
       " 'ResourceWarning',\n",
       " 'RuntimeError',\n",
       " 'RuntimeWarning',\n",
       " 'StopAsyncIteration',\n",
       " 'StopIteration',\n",
       " 'SyntaxError',\n",
       " 'SyntaxWarning',\n",
       " 'SystemError',\n",
       " 'SystemExit',\n",
       " 'TabError',\n",
       " 'TimeoutError',\n",
       " 'True',\n",
       " 'TypeError',\n",
       " 'UnboundLocalError',\n",
       " 'UnicodeDecodeError',\n",
       " 'UnicodeEncodeError',\n",
       " 'UnicodeError',\n",
       " 'UnicodeTranslateError',\n",
       " 'UnicodeWarning',\n",
       " 'UserWarning',\n",
       " 'ValueError',\n",
       " 'Warning',\n",
       " 'WindowsError',\n",
       " 'ZeroDivisionError',\n",
       " '__IPYTHON__',\n",
       " '__build_class__',\n",
       " '__debug__',\n",
       " '__doc__',\n",
       " '__import__',\n",
       " '__loader__',\n",
       " '__name__',\n",
       " '__package__',\n",
       " '__spec__',\n",
       " 'abs',\n",
       " 'all',\n",
       " 'any',\n",
       " 'ascii',\n",
       " 'bin',\n",
       " 'bool',\n",
       " 'breakpoint',\n",
       " 'bytearray',\n",
       " 'bytes',\n",
       " 'callable',\n",
       " 'chr',\n",
       " 'classmethod',\n",
       " 'compile',\n",
       " 'complex',\n",
       " 'copyright',\n",
       " 'credits',\n",
       " 'delattr',\n",
       " 'dict',\n",
       " 'dir',\n",
       " 'display',\n",
       " 'divmod',\n",
       " 'enumerate',\n",
       " 'eval',\n",
       " 'exec',\n",
       " 'filter',\n",
       " 'float',\n",
       " 'format',\n",
       " 'frozenset',\n",
       " 'get_ipython',\n",
       " 'getattr',\n",
       " 'globals',\n",
       " 'hasattr',\n",
       " 'hash',\n",
       " 'help',\n",
       " 'hex',\n",
       " 'id',\n",
       " 'input',\n",
       " 'int',\n",
       " 'isinstance',\n",
       " 'issubclass',\n",
       " 'iter',\n",
       " 'len',\n",
       " 'license',\n",
       " 'list',\n",
       " 'locals',\n",
       " 'map',\n",
       " 'max',\n",
       " 'memoryview',\n",
       " 'min',\n",
       " 'next',\n",
       " 'object',\n",
       " 'oct',\n",
       " 'open',\n",
       " 'ord',\n",
       " 'pow',\n",
       " 'print',\n",
       " 'property',\n",
       " 'range',\n",
       " 'repr',\n",
       " 'reversed',\n",
       " 'round',\n",
       " 'set',\n",
       " 'setattr',\n",
       " 'slice',\n",
       " 'sorted',\n",
       " 'staticmethod',\n",
       " 'str',\n",
       " 'sum',\n",
       " 'super',\n",
       " 'tuple',\n",
       " 'type',\n",
       " 'vars',\n",
       " 'zip']"
      ]
     },
     "execution_count": 42,
     "metadata": {},
     "output_type": "execute_result"
    }
   ],
   "source": [
    "#### default modules\n",
    "\n",
    "dir(__builtins__)"
   ]
  },
  {
   "cell_type": "code",
   "execution_count": 43,
   "metadata": {
    "collapsed": true
   },
   "outputs": [
    {
     "data": {
      "text/plain": [
       "['__add__',\n",
       " '__class__',\n",
       " '__contains__',\n",
       " '__delattr__',\n",
       " '__dir__',\n",
       " '__doc__',\n",
       " '__eq__',\n",
       " '__format__',\n",
       " '__ge__',\n",
       " '__getattribute__',\n",
       " '__getitem__',\n",
       " '__getnewargs__',\n",
       " '__gt__',\n",
       " '__hash__',\n",
       " '__init__',\n",
       " '__init_subclass__',\n",
       " '__iter__',\n",
       " '__le__',\n",
       " '__len__',\n",
       " '__lt__',\n",
       " '__mod__',\n",
       " '__mul__',\n",
       " '__ne__',\n",
       " '__new__',\n",
       " '__reduce__',\n",
       " '__reduce_ex__',\n",
       " '__repr__',\n",
       " '__rmod__',\n",
       " '__rmul__',\n",
       " '__setattr__',\n",
       " '__sizeof__',\n",
       " '__str__',\n",
       " '__subclasshook__',\n",
       " 'capitalize',\n",
       " 'casefold',\n",
       " 'center',\n",
       " 'count',\n",
       " 'encode',\n",
       " 'endswith',\n",
       " 'expandtabs',\n",
       " 'find',\n",
       " 'format',\n",
       " 'format_map',\n",
       " 'index',\n",
       " 'isalnum',\n",
       " 'isalpha',\n",
       " 'isascii',\n",
       " 'isdecimal',\n",
       " 'isdigit',\n",
       " 'isidentifier',\n",
       " 'islower',\n",
       " 'isnumeric',\n",
       " 'isprintable',\n",
       " 'isspace',\n",
       " 'istitle',\n",
       " 'isupper',\n",
       " 'join',\n",
       " 'ljust',\n",
       " 'lower',\n",
       " 'lstrip',\n",
       " 'maketrans',\n",
       " 'partition',\n",
       " 'replace',\n",
       " 'rfind',\n",
       " 'rindex',\n",
       " 'rjust',\n",
       " 'rpartition',\n",
       " 'rsplit',\n",
       " 'rstrip',\n",
       " 'split',\n",
       " 'splitlines',\n",
       " 'startswith',\n",
       " 'strip',\n",
       " 'swapcase',\n",
       " 'title',\n",
       " 'translate',\n",
       " 'upper',\n",
       " 'zfill']"
      ]
     },
     "execution_count": 43,
     "metadata": {},
     "output_type": "execute_result"
    }
   ],
   "source": [
    "dir(str)"
   ]
  },
  {
   "cell_type": "code",
   "execution_count": 44,
   "metadata": {},
   "outputs": [
    {
     "name": "stdout",
     "output_type": "stream",
     "text": [
      "['C:\\\\Users\\\\win10\\\\Desktop\\\\vemu-django', 'C:\\\\Users\\\\win10\\\\Anaconda3\\\\python37.zip', 'C:\\\\Users\\\\win10\\\\Anaconda3\\\\DLLs', 'C:\\\\Users\\\\win10\\\\Anaconda3\\\\lib', 'C:\\\\Users\\\\win10\\\\Anaconda3', '', 'C:\\\\Users\\\\win10\\\\Anaconda3\\\\lib\\\\site-packages', 'C:\\\\Users\\\\win10\\\\Anaconda3\\\\lib\\\\site-packages\\\\win32', 'C:\\\\Users\\\\win10\\\\Anaconda3\\\\lib\\\\site-packages\\\\win32\\\\lib', 'C:\\\\Users\\\\win10\\\\Anaconda3\\\\lib\\\\site-packages\\\\Pythonwin', 'C:\\\\Users\\\\win10\\\\Anaconda3\\\\lib\\\\site-packages\\\\IPython\\\\extensions', 'C:\\\\Users\\\\win10\\\\.ipython']\n"
     ]
    }
   ],
   "source": [
    "import sys\n",
    "print(sys.path)"
   ]
  },
  {
   "cell_type": "code",
   "execution_count": 45,
   "metadata": {},
   "outputs": [
    {
     "name": "stdout",
     "output_type": "stream",
     "text": [
      "12.806248474865697\n"
     ]
    }
   ],
   "source": [
    "import math\n",
    "print(math.sqrt(164))"
   ]
  },
  {
   "cell_type": "code",
   "execution_count": 46,
   "metadata": {},
   "outputs": [
    {
     "name": "stdout",
     "output_type": "stream",
     "text": [
      "2021-06-08\n"
     ]
    }
   ],
   "source": [
    "import datetime\n",
    "print(datetime.date.today())"
   ]
  },
  {
   "cell_type": "code",
   "execution_count": null,
   "metadata": {},
   "outputs": [],
   "source": []
  }
 ],
 "metadata": {
  "kernelspec": {
   "display_name": "Python 3",
   "language": "python",
   "name": "python3"
  },
  "language_info": {
   "codemirror_mode": {
    "name": "ipython",
    "version": 3
   },
   "file_extension": ".py",
   "mimetype": "text/x-python",
   "name": "python",
   "nbconvert_exporter": "python",
   "pygments_lexer": "ipython3",
   "version": "3.7.3"
  }
 },
 "nbformat": 4,
 "nbformat_minor": 2
}
